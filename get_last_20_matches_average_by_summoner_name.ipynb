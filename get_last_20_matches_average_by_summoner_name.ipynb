{
 "cells": [
  {
   "cell_type": "code",
   "execution_count": 1,
   "metadata": {},
   "outputs": [],
   "source": [
    "import pandas as pd\n",
    "import requests\n",
    "\n",
    "import riot_api_key as riot_api_key\n",
    "import riot_consts as consts\n",
    "\n",
    "class riot_api(object):\n",
    "    \n",
    "    # CORE\n",
    "    def __init__(self, api_key=riot_api_key.KEY, region='TR'):\n",
    "        self.api_key = api_key\n",
    "        self.region = region\n",
    "\n",
    "    def _request(self, api_url, params={}):\n",
    "        args = {'api_key': self.api_key}\n",
    "        for key, value in params.items():\n",
    "            if key not in args:\n",
    "                args[key] = value\n",
    "        response = requests.get(url=api_url, params=args)\n",
    "        print(response.url)\n",
    "        return response.json()\n",
    "\n",
    "    \n",
    "    # SUMMONER ENDPOINT\n",
    "    def get_summoner_by_name(self, name):\n",
    "        api_url = consts.URL['summoner_by_name'].format(\n",
    "            region=consts.REGIONS[self.region],\n",
    "            version=consts.API_VERSIONS['summoner'],\n",
    "            name=name\n",
    "        )\n",
    "        return self._request(api_url)\n",
    "\n",
    "    \n",
    "    # SPECTATOR ENDPOINT\n",
    "    def get_current_game_by_summoner_name(self, name):\n",
    "        summoner = self.get_summoner_by_name(name)\n",
    "        api_url = consts.URL['current_game_by_summoner_name'].format(\n",
    "            region=consts.REGIONS[self.region],\n",
    "            version=consts.API_VERSIONS['spectator'],\n",
    "            id=summoner['id']\n",
    "        )\n",
    "\n",
    "        return self._request(api_url)\n",
    "\n",
    "    \n",
    "    # MATCH ENDPOINT\n",
    "    def get_matches_by_summoner_name(self, name):\n",
    "        summoner = self.get_summoner_by_name(name)\n",
    "\n",
    "        api_url = consts.URL['matches_by_summoner_name'].format(\n",
    "            proxy=consts.PROXIES[self.region],\n",
    "            version=consts.API_VERSIONS['match'],\n",
    "            puuid=summoner['puuid']\n",
    "        )\n",
    "        return self._request(api_url)\n",
    "\n",
    "    def get_game_timeline_by_match_id(self, match_id):\n",
    "        api_url = consts.URL['game_timeline_by_match_id'].format(\n",
    "            proxy=consts.PROXIES[self.region],\n",
    "            version=consts.API_VERSIONS['match'],\n",
    "            match_id=match_id\n",
    "        )\n",
    "        return self._request(api_url)\n",
    "\n",
    "    def get_match_info_by_match_id(self, match_id):\n",
    "        api_url = consts.URL['match_info_by_match_id'].format(\n",
    "            proxy=consts.PROXIES[self.region],\n",
    "            version=consts.API_VERSIONS['match'],\n",
    "            match_id=match_id\n",
    "        )\n",
    "        return self._request(api_url)\n",
    "\n",
    "    \n",
    "    # LEAGUE ENDPOINT\n",
    "    def get_all_league_entries_by_queue_tier_division(self, queue='RANKED_SOLO_5x5', tier='PLATINUM', division='IV'):\n",
    "        api_url = consts.URL['all_league_entries_by_queue_tier_division'].format(\n",
    "            region=consts.REGIONS[self.region],\n",
    "            version=consts.API_VERSIONS['league'],\n",
    "            queue=queue,\n",
    "            tier=tier,\n",
    "            division=division)\n",
    "        return self._request(api_url)\n",
    "\n",
    "    def get_league_entries_by_summoner_id(self, summoner_id):\n",
    "        api_url = consts.URL['league_entries_by_summoner_id'].format(\n",
    "            region=consts.REGIONS[self.region],\n",
    "            version=consts.API_VERSIONS['league'],\n",
    "            encryptedSummonerId=summoner_id)\n",
    "        return self._request(api_url)\n",
    "\n",
    "    \n",
    "    # CHAMPION MASTERY ENDPOINT\n",
    "    def get_champion_mastery_by_summoner_id_champion_id(self, summoner_id, champion_id):\n",
    "        api_url = consts.URL['champion_mastery_by_summoner_id_champion_id'].format(\n",
    "            region=consts.REGIONS[self.region],\n",
    "            version=consts.API_VERSIONS['champion-mastery'],\n",
    "            encryptedSummonerId=summoner_id,\n",
    "            championId=champion_id)\n",
    "        return self._request(api_url)\n",
    "\n",
    "    def get_champion_masteries_by_summoner_id(self, summoner_id):\n",
    "        api_url = consts.URL['champion_masteries_by_summoner_id'].format(\n",
    "            region=consts.REGIONS[self.region],\n",
    "            version=consts.API_VERSIONS['champion-mastery'],\n",
    "            encryptedSummonerId=summoner_id)\n",
    "        return self._request(api_url)\n",
    "\n",
    "    def get_total_mastery_score_by_summoner_id(self, summoner_id):\n",
    "        api_url = consts.URL['total_mastery_score_by_summoner_id'].format(\n",
    "            region=consts.REGIONS[self.region],\n",
    "            version=consts.API_VERSIONS['champion-mastery'],\n",
    "            encryptedSummonerId=summoner_id)\n",
    "        return self._request(api_url)\n",
    "\n",
    "riot = riot_api()"
   ]
  },
  {
   "cell_type": "markdown",
   "metadata": {},
   "source": [
    "## Get average of of last 20 matches by summoner name"
   ]
  },
  {
   "cell_type": "markdown",
   "metadata": {},
   "source": [
    "    RATE LIMITS\n",
    "    20 requests every 1 seconds(s)\n",
    "    100 requests every 2 minutes(s)"
   ]
  },
  {
   "cell_type": "code",
   "execution_count": 2,
   "metadata": {
    "collapsed": true,
    "jupyter": {
     "outputs_hidden": true
    }
   },
   "outputs": [
    {
     "name": "stdout",
     "output_type": "stream",
     "text": [
      "https://tr1.api.riotgames.com/lol/summoner/v4/summoners/by-name/rolatweete?api_key=RGAPI-323a48ad-fd5b-480b-bc74-a904619ed035\n",
      "https://europe.api.riotgames.com/lol/match/v5/matches/by-puuid/fjwykTJPXL4WGq1CCIGI0jSzInh95z-sSPktJvC426LxjwIn2ORu5Jzg4zsSC4MAkOtaSs_ahpd9gQ/ids?api_key=RGAPI-323a48ad-fd5b-480b-bc74-a904619ed035\n",
      "https://europe.api.riotgames.com/lol/match/v5/matches/TR1_1193356373?api_key=RGAPI-323a48ad-fd5b-480b-bc74-a904619ed035\n",
      "https://europe.api.riotgames.com/lol/match/v5/matches/TR1_1193355820?api_key=RGAPI-323a48ad-fd5b-480b-bc74-a904619ed035\n",
      "https://europe.api.riotgames.com/lol/match/v5/matches/TR1_1193384336?api_key=RGAPI-323a48ad-fd5b-480b-bc74-a904619ed035\n",
      "https://europe.api.riotgames.com/lol/match/v5/matches/TR1_1193354513?api_key=RGAPI-323a48ad-fd5b-480b-bc74-a904619ed035\n",
      "https://europe.api.riotgames.com/lol/match/v5/matches/TR1_1193360195?api_key=RGAPI-323a48ad-fd5b-480b-bc74-a904619ed035\n",
      "https://europe.api.riotgames.com/lol/match/v5/matches/TR1_1193336219?api_key=RGAPI-323a48ad-fd5b-480b-bc74-a904619ed035\n",
      "https://europe.api.riotgames.com/lol/match/v5/matches/TR1_1192598453?api_key=RGAPI-323a48ad-fd5b-480b-bc74-a904619ed035\n",
      "https://europe.api.riotgames.com/lol/match/v5/matches/TR1_1192596369?api_key=RGAPI-323a48ad-fd5b-480b-bc74-a904619ed035\n",
      "https://europe.api.riotgames.com/lol/match/v5/matches/TR1_1192594686?api_key=RGAPI-323a48ad-fd5b-480b-bc74-a904619ed035\n",
      "https://europe.api.riotgames.com/lol/match/v5/matches/TR1_1192214719?api_key=RGAPI-323a48ad-fd5b-480b-bc74-a904619ed035\n",
      "https://europe.api.riotgames.com/lol/match/v5/matches/TR1_1192232173?api_key=RGAPI-323a48ad-fd5b-480b-bc74-a904619ed035\n",
      "https://europe.api.riotgames.com/lol/match/v5/matches/TR1_1191903773?api_key=RGAPI-323a48ad-fd5b-480b-bc74-a904619ed035\n",
      "https://europe.api.riotgames.com/lol/match/v5/matches/TR1_1191901642?api_key=RGAPI-323a48ad-fd5b-480b-bc74-a904619ed035\n",
      "https://europe.api.riotgames.com/lol/match/v5/matches/TR1_1191808874?api_key=RGAPI-323a48ad-fd5b-480b-bc74-a904619ed035\n",
      "https://europe.api.riotgames.com/lol/match/v5/matches/TR1_1191777141?api_key=RGAPI-323a48ad-fd5b-480b-bc74-a904619ed035\n",
      "https://europe.api.riotgames.com/lol/match/v5/matches/TR1_1191457956?api_key=RGAPI-323a48ad-fd5b-480b-bc74-a904619ed035\n",
      "https://europe.api.riotgames.com/lol/match/v5/matches/TR1_1191484346?api_key=RGAPI-323a48ad-fd5b-480b-bc74-a904619ed035\n",
      "https://europe.api.riotgames.com/lol/match/v5/matches/TR1_1191046744?api_key=RGAPI-323a48ad-fd5b-480b-bc74-a904619ed035\n",
      "https://europe.api.riotgames.com/lol/match/v5/matches/TR1_1191041596?api_key=RGAPI-323a48ad-fd5b-480b-bc74-a904619ed035\n",
      "https://europe.api.riotgames.com/lol/match/v5/matches/TR1_1190997309?api_key=RGAPI-323a48ad-fd5b-480b-bc74-a904619ed035\n",
      "https://tr1.api.riotgames.com/lol/summoner/v4/summoners/by-name/skipper94?api_key=RGAPI-323a48ad-fd5b-480b-bc74-a904619ed035\n",
      "https://europe.api.riotgames.com/lol/match/v5/matches/by-puuid/pHSkNpSleYfSDaDEshP6BeIkXe2oqm-e6avyxZC3ofOBAzGv4R92lf7wN10We3auh3NR85ZjsLv7eQ/ids?api_key=RGAPI-323a48ad-fd5b-480b-bc74-a904619ed035\n",
      "https://europe.api.riotgames.com/lol/match/v5/matches/TR1_1193478191?api_key=RGAPI-323a48ad-fd5b-480b-bc74-a904619ed035\n",
      "https://europe.api.riotgames.com/lol/match/v5/matches/TR1_1193485943?api_key=RGAPI-323a48ad-fd5b-480b-bc74-a904619ed035\n",
      "https://europe.api.riotgames.com/lol/match/v5/matches/TR1_1192491014?api_key=RGAPI-323a48ad-fd5b-480b-bc74-a904619ed035\n",
      "https://europe.api.riotgames.com/lol/match/v5/matches/TR1_1192459410?api_key=RGAPI-323a48ad-fd5b-480b-bc74-a904619ed035\n",
      "https://europe.api.riotgames.com/lol/match/v5/matches/TR1_1192436441?api_key=RGAPI-323a48ad-fd5b-480b-bc74-a904619ed035\n",
      "https://europe.api.riotgames.com/lol/match/v5/matches/TR1_1191903773?api_key=RGAPI-323a48ad-fd5b-480b-bc74-a904619ed035\n",
      "https://europe.api.riotgames.com/lol/match/v5/matches/TR1_1191901642?api_key=RGAPI-323a48ad-fd5b-480b-bc74-a904619ed035\n",
      "https://europe.api.riotgames.com/lol/match/v5/matches/TR1_1191808874?api_key=RGAPI-323a48ad-fd5b-480b-bc74-a904619ed035\n",
      "https://europe.api.riotgames.com/lol/match/v5/matches/TR1_1191777141?api_key=RGAPI-323a48ad-fd5b-480b-bc74-a904619ed035\n",
      "https://europe.api.riotgames.com/lol/match/v5/matches/TR1_1191773698?api_key=RGAPI-323a48ad-fd5b-480b-bc74-a904619ed035\n",
      "https://europe.api.riotgames.com/lol/match/v5/matches/TR1_1191725714?api_key=RGAPI-323a48ad-fd5b-480b-bc74-a904619ed035\n",
      "https://europe.api.riotgames.com/lol/match/v5/matches/TR1_1191075781?api_key=RGAPI-323a48ad-fd5b-480b-bc74-a904619ed035\n",
      "https://europe.api.riotgames.com/lol/match/v5/matches/TR1_1191084501?api_key=RGAPI-323a48ad-fd5b-480b-bc74-a904619ed035\n",
      "https://europe.api.riotgames.com/lol/match/v5/matches/TR1_1191081892?api_key=RGAPI-323a48ad-fd5b-480b-bc74-a904619ed035\n",
      "https://europe.api.riotgames.com/lol/match/v5/matches/TR1_1191069658?api_key=RGAPI-323a48ad-fd5b-480b-bc74-a904619ed035\n",
      "https://europe.api.riotgames.com/lol/match/v5/matches/TR1_1191046744?api_key=RGAPI-323a48ad-fd5b-480b-bc74-a904619ed035\n",
      "https://europe.api.riotgames.com/lol/match/v5/matches/TR1_1191041596?api_key=RGAPI-323a48ad-fd5b-480b-bc74-a904619ed035\n",
      "https://europe.api.riotgames.com/lol/match/v5/matches/TR1_1190987019?api_key=RGAPI-323a48ad-fd5b-480b-bc74-a904619ed035\n",
      "https://europe.api.riotgames.com/lol/match/v5/matches/TR1_1190971987?api_key=RGAPI-323a48ad-fd5b-480b-bc74-a904619ed035\n",
      "https://europe.api.riotgames.com/lol/match/v5/matches/TR1_1190980529?api_key=RGAPI-323a48ad-fd5b-480b-bc74-a904619ed035\n",
      "https://tr1.api.riotgames.com/lol/summoner/v4/summoners/by-name/Michelangelo0o?api_key=RGAPI-323a48ad-fd5b-480b-bc74-a904619ed035\n",
      "https://europe.api.riotgames.com/lol/match/v5/matches/by-puuid/QmsylDuiZSLuE4t5mASzyRKRINOuxhNblDSKcW7b-21Uoub3GOGL8ixDHLnvL_I15jLMKJLV6qS3wQ/ids?api_key=RGAPI-323a48ad-fd5b-480b-bc74-a904619ed035\n",
      "https://europe.api.riotgames.com/lol/match/v5/matches/TR1_1193356373?api_key=RGAPI-323a48ad-fd5b-480b-bc74-a904619ed035\n",
      "https://europe.api.riotgames.com/lol/match/v5/matches/TR1_1193355820?api_key=RGAPI-323a48ad-fd5b-480b-bc74-a904619ed035\n",
      "https://europe.api.riotgames.com/lol/match/v5/matches/TR1_1193384336?api_key=RGAPI-323a48ad-fd5b-480b-bc74-a904619ed035\n",
      "https://europe.api.riotgames.com/lol/match/v5/matches/TR1_1193354513?api_key=RGAPI-323a48ad-fd5b-480b-bc74-a904619ed035\n",
      "https://europe.api.riotgames.com/lol/match/v5/matches/TR1_1193336219?api_key=RGAPI-323a48ad-fd5b-480b-bc74-a904619ed035\n",
      "https://europe.api.riotgames.com/lol/match/v5/matches/TR1_1192598453?api_key=RGAPI-323a48ad-fd5b-480b-bc74-a904619ed035\n",
      "https://europe.api.riotgames.com/lol/match/v5/matches/TR1_1192596369?api_key=RGAPI-323a48ad-fd5b-480b-bc74-a904619ed035\n",
      "https://europe.api.riotgames.com/lol/match/v5/matches/TR1_1192594686?api_key=RGAPI-323a48ad-fd5b-480b-bc74-a904619ed035\n",
      "https://europe.api.riotgames.com/lol/match/v5/matches/TR1_1192214719?api_key=RGAPI-323a48ad-fd5b-480b-bc74-a904619ed035\n",
      "https://europe.api.riotgames.com/lol/match/v5/matches/TR1_1192232173?api_key=RGAPI-323a48ad-fd5b-480b-bc74-a904619ed035\n",
      "https://europe.api.riotgames.com/lol/match/v5/matches/TR1_1191457956?api_key=RGAPI-323a48ad-fd5b-480b-bc74-a904619ed035\n",
      "https://europe.api.riotgames.com/lol/match/v5/matches/TR1_1191484346?api_key=RGAPI-323a48ad-fd5b-480b-bc74-a904619ed035\n",
      "https://europe.api.riotgames.com/lol/match/v5/matches/TR1_1191075781?api_key=RGAPI-323a48ad-fd5b-480b-bc74-a904619ed035\n",
      "https://europe.api.riotgames.com/lol/match/v5/matches/TR1_1191084501?api_key=RGAPI-323a48ad-fd5b-480b-bc74-a904619ed035\n",
      "https://europe.api.riotgames.com/lol/match/v5/matches/TR1_1191081892?api_key=RGAPI-323a48ad-fd5b-480b-bc74-a904619ed035\n",
      "https://europe.api.riotgames.com/lol/match/v5/matches/TR1_1191069658?api_key=RGAPI-323a48ad-fd5b-480b-bc74-a904619ed035\n",
      "https://europe.api.riotgames.com/lol/match/v5/matches/TR1_1189784387?api_key=RGAPI-323a48ad-fd5b-480b-bc74-a904619ed035\n",
      "https://europe.api.riotgames.com/lol/match/v5/matches/TR1_1189792519?api_key=RGAPI-323a48ad-fd5b-480b-bc74-a904619ed035\n",
      "https://europe.api.riotgames.com/lol/match/v5/matches/TR1_1189749466?api_key=RGAPI-323a48ad-fd5b-480b-bc74-a904619ed035\n",
      "https://europe.api.riotgames.com/lol/match/v5/matches/TR1_1189737066?api_key=RGAPI-323a48ad-fd5b-480b-bc74-a904619ed035\n",
      "https://tr1.api.riotgames.com/lol/summoner/v4/summoners/by-name/veteranmaestro?api_key=RGAPI-323a48ad-fd5b-480b-bc74-a904619ed035\n",
      "https://europe.api.riotgames.com/lol/match/v5/matches/by-puuid/FDzDq3qF8x4dm1aejRKR0ii2y2Ej__edWn-7QExFORbDb57ytYJ-6vS-HDmfAoXDF8gfICMQJtvRGA/ids?api_key=RGAPI-323a48ad-fd5b-480b-bc74-a904619ed035\n",
      "https://europe.api.riotgames.com/lol/match/v5/matches/TR1_1193360195?api_key=RGAPI-323a48ad-fd5b-480b-bc74-a904619ed035\n",
      "https://europe.api.riotgames.com/lol/match/v5/matches/TR1_1193336219?api_key=RGAPI-323a48ad-fd5b-480b-bc74-a904619ed035\n",
      "https://europe.api.riotgames.com/lol/match/v5/matches/TR1_1192598453?api_key=RGAPI-323a48ad-fd5b-480b-bc74-a904619ed035\n",
      "https://europe.api.riotgames.com/lol/match/v5/matches/TR1_1192596369?api_key=RGAPI-323a48ad-fd5b-480b-bc74-a904619ed035\n",
      "https://europe.api.riotgames.com/lol/match/v5/matches/TR1_1192594686?api_key=RGAPI-323a48ad-fd5b-480b-bc74-a904619ed035\n",
      "https://europe.api.riotgames.com/lol/match/v5/matches/TR1_1192611280?api_key=RGAPI-323a48ad-fd5b-480b-bc74-a904619ed035\n",
      "https://europe.api.riotgames.com/lol/match/v5/matches/TR1_1192214719?api_key=RGAPI-323a48ad-fd5b-480b-bc74-a904619ed035\n",
      "https://europe.api.riotgames.com/lol/match/v5/matches/TR1_1192232173?api_key=RGAPI-323a48ad-fd5b-480b-bc74-a904619ed035\n",
      "https://europe.api.riotgames.com/lol/match/v5/matches/TR1_1192197866?api_key=RGAPI-323a48ad-fd5b-480b-bc74-a904619ed035\n",
      "https://europe.api.riotgames.com/lol/match/v5/matches/TR1_1191903773?api_key=RGAPI-323a48ad-fd5b-480b-bc74-a904619ed035\n",
      "https://europe.api.riotgames.com/lol/match/v5/matches/TR1_1191901642?api_key=RGAPI-323a48ad-fd5b-480b-bc74-a904619ed035\n",
      "https://europe.api.riotgames.com/lol/match/v5/matches/TR1_1191808874?api_key=RGAPI-323a48ad-fd5b-480b-bc74-a904619ed035\n",
      "https://europe.api.riotgames.com/lol/match/v5/matches/TR1_1191457956?api_key=RGAPI-323a48ad-fd5b-480b-bc74-a904619ed035\n",
      "https://europe.api.riotgames.com/lol/match/v5/matches/TR1_1191484346?api_key=RGAPI-323a48ad-fd5b-480b-bc74-a904619ed035\n",
      "https://europe.api.riotgames.com/lol/match/v5/matches/TR1_1191075781?api_key=RGAPI-323a48ad-fd5b-480b-bc74-a904619ed035\n",
      "https://europe.api.riotgames.com/lol/match/v5/matches/TR1_1191084501?api_key=RGAPI-323a48ad-fd5b-480b-bc74-a904619ed035\n",
      "https://europe.api.riotgames.com/lol/match/v5/matches/TR1_1191081892?api_key=RGAPI-323a48ad-fd5b-480b-bc74-a904619ed035\n",
      "https://europe.api.riotgames.com/lol/match/v5/matches/TR1_1191069658?api_key=RGAPI-323a48ad-fd5b-480b-bc74-a904619ed035\n",
      "https://europe.api.riotgames.com/lol/match/v5/matches/TR1_1191046744?api_key=RGAPI-323a48ad-fd5b-480b-bc74-a904619ed035\n",
      "https://europe.api.riotgames.com/lol/match/v5/matches/TR1_1191041596?api_key=RGAPI-323a48ad-fd5b-480b-bc74-a904619ed035\n"
     ]
    }
   ],
   "source": [
    "import time\n",
    "\n",
    "request_number = 0\n",
    "\n",
    "\n",
    "summoner_list = ['rolatweete',\n",
    "                 'skipper94',\n",
    "                  'Michelangelo0o',\n",
    "                  'veteranmaestro']#,\n",
    "#                  'Kuzuthunder',\n",
    "#                  'disruptor',\n",
    "#                  'LordDabulu',\n",
    "#                  'Fonki',\n",
    "#                  'Berserker1415']\n",
    "\n",
    "\n",
    "summoner_stats = ['damageDealtToBuildings',\n",
    "                  'damageDealtToObjectives',\n",
    "                  'damageDealtToTurrets',\n",
    "                  'totalDamageDealtToChampions',\n",
    "                  'timeCCingOthers',\n",
    "                  'totalTimeCCDealt',\n",
    "                  'totalMinionsKilled',\n",
    "                  'wardsKilled',\n",
    "                  'visionScore',\n",
    "                  'totalDamageShieldedOnTeammates',\n",
    "                  'totalHealsOnTeammates',\n",
    "                  'kills',\n",
    "                  'deaths',\n",
    "                  'assists',\n",
    "                  'goldSpent']\n",
    "\n",
    "\n",
    "summoner_stats_scalar = ['championName',\n",
    "                         'timePlayed',\n",
    "                         'win']\n",
    "\n",
    "summoner_list_df = pd.DataFrame()\n",
    "summoner_avg_stats_df = pd.DataFrame(columns = summoner_stats)\n",
    "\n",
    "\n",
    "for summoner in summoner_list:\n",
    "    \n",
    "    matches = riot.get_matches_by_summoner_name(summoner)\n",
    "    stat_list = []\n",
    "\n",
    "    for each_match in matches:            \n",
    "        \n",
    "        if request_number < 80:\n",
    "            \n",
    "            match = riot.get_match_info_by_match_id(each_match) \n",
    "\n",
    "            # filter custom_games -> custom matches return only single element, whereas normal matches return more than single element\n",
    "            if len(match)>1:\n",
    "\n",
    "                # filtering only Classical Summoner's Rift MATCHED_GAMEd games and excluding Howling Abyys (ARAM)\n",
    "                if match['info']['gameMode'] == 'CLASSIC' and match['info']['gameType'] == 'MATCHED_GAME' and match['info']['mapId'] == 11:\n",
    "\n",
    "                    players = match['info']['participants']\n",
    "\n",
    "                    match_df = pd.DataFrame(index=players[0].keys())\n",
    "\n",
    "\n",
    "                    for player in range(len(players)):\n",
    "                        \n",
    "                        player_stats = match['info']['participants'][player]\n",
    "\n",
    "                        # column names\n",
    "                        cln = player_stats.keys()\n",
    "\n",
    "                        # numeric data\n",
    "                        numeric_data = player_stats.items()\n",
    "\n",
    "                        # adding numeric data to the stat_list\n",
    "                        for stat in range(len(numeric_data)):\n",
    "                            stat_list.append(list(numeric_data)[stat][1])\n",
    "\n",
    "                        # adding stat list to match_df\n",
    "                        match_df['player_{player_number}'.format(player_number=player)] = stat_list\n",
    "\n",
    "                        # reset stat list for next player stats\n",
    "                        stat_list = []\n",
    "\n",
    "                    match_df = match_df.T\n",
    "\n",
    "                    df_player = match_df[match_df['summonerName'] == summoner]\n",
    "\n",
    "                    summoner_list_df = pd.concat([summoner_list_df, df_player], axis=0)\n",
    "                    \n",
    "        else:\n",
    "            \n",
    "            time.sleep(120)\n",
    "            \n",
    "            request_number = 0 \n",
    "            \n",
    "            match = riot.get_match_info_by_match_id(each_match) \n",
    "\n",
    "            # filter custom_games -> custom matches return only single element, whereas normal matches return more than single element\n",
    "            if len(match)>1:\n",
    "\n",
    "                # filtering only Classical Summoner's Rift MATCHED_GAMEd games and excluding Howling Abyys (ARAM)\n",
    "                if match['info']['gameMode'] == 'CLASSIC' and match['info']['gameType'] == 'MATCHED_GAME' and match['info']['mapId'] == 11:\n",
    "\n",
    "                    players = match['info']['participants']\n",
    "\n",
    "                    match_df = pd.DataFrame(index=players[0].keys())\n",
    "\n",
    "\n",
    "                    for player in range(len(players)):\n",
    "                        \n",
    "                        player_stats = match['info']['participants'][player]\n",
    "\n",
    "                        # column names\n",
    "                        cln = player_stats.keys()\n",
    "\n",
    "                        # numeric data\n",
    "                        numeric_data = player_stats.items()\n",
    "\n",
    "                        # adding numeric data to the stat_list\n",
    "                        for stat in range(len(numeric_data)):\n",
    "                            stat_list.append(list(numeric_data)[stat][1])\n",
    "\n",
    "                        # adding stat list to match_df\n",
    "                        match_df['player_{player_number}'.format(player_number=player)] = stat_list\n",
    "\n",
    "                        # reset stat list for next player stats\n",
    "                        stat_list = []\n",
    "\n",
    "                    match_df = match_df.T\n",
    "\n",
    "                    df_player = match_df[match_df['summonerName'] == summoner]\n",
    "\n",
    "                    summoner_list_df = pd.concat([summoner_list_df, df_player], axis=0)\n",
    "                      \n",
    "\n",
    "    request_number += 21\n",
    "    \n",
    "    sum_filter = summoner_list_df[summoner_list_df['summonerName'] == summoner]\n",
    "    \n",
    "    avg_stats = [(sum_filter[i]/sum_filter['timePlayed']).mean() for i in summoner_stats]\n",
    "    \n",
    "    summoner_avg_stats_df.loc[len(summoner_avg_stats_df)] = avg_stats"
   ]
  },
  {
   "cell_type": "code",
   "execution_count": 3,
   "metadata": {},
   "outputs": [
    {
     "data": {
      "application/javascript": [
       "\n",
       "        if (window._pyforest_update_imports_cell) { window._pyforest_update_imports_cell('import numpy as np'); }\n",
       "    "
      ],
      "text/plain": [
       "<IPython.core.display.Javascript object>"
      ]
     },
     "metadata": {},
     "output_type": "display_data"
    },
    {
     "data": {
      "application/javascript": [
       "\n",
       "        if (window._pyforest_update_imports_cell) { window._pyforest_update_imports_cell('import numpy as np'); }\n",
       "    "
      ],
      "text/plain": [
       "<IPython.core.display.Javascript object>"
      ]
     },
     "metadata": {},
     "output_type": "display_data"
    },
    {
     "data": {
      "application/javascript": [
       "\n",
       "        if (window._pyforest_update_imports_cell) { window._pyforest_update_imports_cell('import numpy as np'); }\n",
       "    "
      ],
      "text/plain": [
       "<IPython.core.display.Javascript object>"
      ]
     },
     "metadata": {},
     "output_type": "display_data"
    },
    {
     "data": {
      "application/javascript": [
       "\n",
       "        if (window._pyforest_update_imports_cell) { window._pyforest_update_imports_cell('import numpy as np'); }\n",
       "    "
      ],
      "text/plain": [
       "<IPython.core.display.Javascript object>"
      ]
     },
     "metadata": {},
     "output_type": "display_data"
    },
    {
     "data": {
      "text/html": [
       "<div>\n",
       "<style scoped>\n",
       "    .dataframe tbody tr th:only-of-type {\n",
       "        vertical-align: middle;\n",
       "    }\n",
       "\n",
       "    .dataframe tbody tr th {\n",
       "        vertical-align: top;\n",
       "    }\n",
       "\n",
       "    .dataframe thead th {\n",
       "        text-align: right;\n",
       "    }\n",
       "</style>\n",
       "<table border=\"1\" class=\"dataframe\">\n",
       "  <thead>\n",
       "    <tr style=\"text-align: right;\">\n",
       "      <th></th>\n",
       "      <th>damageDealtToBuildings</th>\n",
       "      <th>damageDealtToObjectives</th>\n",
       "      <th>damageDealtToTurrets</th>\n",
       "      <th>totalDamageDealtToChampions</th>\n",
       "      <th>timeCCingOthers</th>\n",
       "      <th>totalTimeCCDealt</th>\n",
       "      <th>totalMinionsKilled</th>\n",
       "      <th>wardsKilled</th>\n",
       "      <th>visionScore</th>\n",
       "      <th>totalDamageShieldedOnTeammates</th>\n",
       "      <th>totalHealsOnTeammates</th>\n",
       "      <th>kills</th>\n",
       "      <th>deaths</th>\n",
       "      <th>assists</th>\n",
       "      <th>goldSpent</th>\n",
       "      <th>summonerName</th>\n",
       "      <th>win_rate</th>\n",
       "      <th>KD_ratio</th>\n",
       "    </tr>\n",
       "  </thead>\n",
       "  <tbody>\n",
       "    <tr>\n",
       "      <th>0</th>\n",
       "      <td>1.615668</td>\n",
       "      <td>3.561571</td>\n",
       "      <td>1.615668</td>\n",
       "      <td>10.670465</td>\n",
       "      <td>0.009397</td>\n",
       "      <td>0.123872</td>\n",
       "      <td>0.075889</td>\n",
       "      <td>0.001158</td>\n",
       "      <td>0.013052</td>\n",
       "      <td>0.000000</td>\n",
       "      <td>0.052914</td>\n",
       "      <td>0.004414</td>\n",
       "      <td>0.003915</td>\n",
       "      <td>0.004595</td>\n",
       "      <td>5.884006</td>\n",
       "      <td>rolatweete</td>\n",
       "      <td>0.714286</td>\n",
       "      <td>1.127419</td>\n",
       "    </tr>\n",
       "    <tr>\n",
       "      <th>1</th>\n",
       "      <td>0.689053</td>\n",
       "      <td>2.523748</td>\n",
       "      <td>0.689053</td>\n",
       "      <td>11.518432</td>\n",
       "      <td>0.011356</td>\n",
       "      <td>0.082263</td>\n",
       "      <td>0.053999</td>\n",
       "      <td>0.001073</td>\n",
       "      <td>0.015929</td>\n",
       "      <td>0.386276</td>\n",
       "      <td>1.617208</td>\n",
       "      <td>0.002766</td>\n",
       "      <td>0.003816</td>\n",
       "      <td>0.005939</td>\n",
       "      <td>5.143979</td>\n",
       "      <td>skipper94</td>\n",
       "      <td>0.533333</td>\n",
       "      <td>0.724755</td>\n",
       "    </tr>\n",
       "    <tr>\n",
       "      <th>2</th>\n",
       "      <td>0.244537</td>\n",
       "      <td>0.669205</td>\n",
       "      <td>0.244537</td>\n",
       "      <td>4.107450</td>\n",
       "      <td>0.014073</td>\n",
       "      <td>0.080531</td>\n",
       "      <td>0.017124</td>\n",
       "      <td>0.000893</td>\n",
       "      <td>0.015255</td>\n",
       "      <td>0.567425</td>\n",
       "      <td>0.302977</td>\n",
       "      <td>0.000801</td>\n",
       "      <td>0.003655</td>\n",
       "      <td>0.006295</td>\n",
       "      <td>3.587203</td>\n",
       "      <td>Michelangelo0o</td>\n",
       "      <td>0.538462</td>\n",
       "      <td>0.219202</td>\n",
       "    </tr>\n",
       "    <tr>\n",
       "      <th>3</th>\n",
       "      <td>1.689423</td>\n",
       "      <td>6.041668</td>\n",
       "      <td>1.689423</td>\n",
       "      <td>11.192731</td>\n",
       "      <td>0.013884</td>\n",
       "      <td>0.262842</td>\n",
       "      <td>0.054114</td>\n",
       "      <td>0.001292</td>\n",
       "      <td>0.016788</td>\n",
       "      <td>0.000000</td>\n",
       "      <td>0.021040</td>\n",
       "      <td>0.003994</td>\n",
       "      <td>0.002896</td>\n",
       "      <td>0.005274</td>\n",
       "      <td>5.916836</td>\n",
       "      <td>veteranmaestro</td>\n",
       "      <td>0.588235</td>\n",
       "      <td>1.379262</td>\n",
       "    </tr>\n",
       "  </tbody>\n",
       "</table>\n",
       "</div>"
      ],
      "text/plain": [
       "   damageDealtToBuildings  damageDealtToObjectives  damageDealtToTurrets  \\\n",
       "0                1.615668                 3.561571              1.615668   \n",
       "1                0.689053                 2.523748              0.689053   \n",
       "2                0.244537                 0.669205              0.244537   \n",
       "3                1.689423                 6.041668              1.689423   \n",
       "\n",
       "   totalDamageDealtToChampions  timeCCingOthers  totalTimeCCDealt  \\\n",
       "0                    10.670465         0.009397          0.123872   \n",
       "1                    11.518432         0.011356          0.082263   \n",
       "2                     4.107450         0.014073          0.080531   \n",
       "3                    11.192731         0.013884          0.262842   \n",
       "\n",
       "   totalMinionsKilled  wardsKilled  visionScore  \\\n",
       "0            0.075889     0.001158     0.013052   \n",
       "1            0.053999     0.001073     0.015929   \n",
       "2            0.017124     0.000893     0.015255   \n",
       "3            0.054114     0.001292     0.016788   \n",
       "\n",
       "   totalDamageShieldedOnTeammates  totalHealsOnTeammates     kills    deaths  \\\n",
       "0                        0.000000               0.052914  0.004414  0.003915   \n",
       "1                        0.386276               1.617208  0.002766  0.003816   \n",
       "2                        0.567425               0.302977  0.000801  0.003655   \n",
       "3                        0.000000               0.021040  0.003994  0.002896   \n",
       "\n",
       "    assists  goldSpent    summonerName  win_rate  KD_ratio  \n",
       "0  0.004595   5.884006      rolatweete  0.714286  1.127419  \n",
       "1  0.005939   5.143979       skipper94  0.533333  0.724755  \n",
       "2  0.006295   3.587203  Michelangelo0o  0.538462  0.219202  \n",
       "3  0.005274   5.916836  veteranmaestro  0.588235  1.379262  "
      ]
     },
     "execution_count": 3,
     "metadata": {},
     "output_type": "execute_result"
    }
   ],
   "source": [
    "win_rate_list = []\n",
    "for summoner in summoner_list:\n",
    "    summoner_win_rate = np.array(summoner_list_df[summoner_list_df['summonerName'] == summoner][['win']].value_counts())[0] / summoner_list_df[summoner_list_df['summonerName'] == summoner]['win'].count()\n",
    "    win_rate_list.append(summoner_win_rate)\n",
    "    \n",
    "summoner_avg_stats_df['summonerName'] = summoner_list\n",
    "summoner_avg_stats_df['win_rate'] = win_rate_list\n",
    "summoner_avg_stats_df['KD_ratio'] = summoner_avg_stats_df['kills'] / summoner_avg_stats_df['deaths']\n",
    "summoner_avg_stats_df"
   ]
  },
  {
   "cell_type": "code",
   "execution_count": 4,
   "metadata": {},
   "outputs": [
    {
     "data": {
      "text/html": [
       "<div>\n",
       "<style scoped>\n",
       "    .dataframe tbody tr th:only-of-type {\n",
       "        vertical-align: middle;\n",
       "    }\n",
       "\n",
       "    .dataframe tbody tr th {\n",
       "        vertical-align: top;\n",
       "    }\n",
       "\n",
       "    .dataframe thead th {\n",
       "        text-align: right;\n",
       "    }\n",
       "</style>\n",
       "<table border=\"1\" class=\"dataframe\">\n",
       "  <thead>\n",
       "    <tr style=\"text-align: right;\">\n",
       "      <th></th>\n",
       "      <th>damageDealtToBuildings</th>\n",
       "      <th>damageDealtToObjectives</th>\n",
       "      <th>damageDealtToTurrets</th>\n",
       "      <th>totalDamageDealtToChampions</th>\n",
       "      <th>timeCCingOthers</th>\n",
       "      <th>totalTimeCCDealt</th>\n",
       "      <th>totalMinionsKilled</th>\n",
       "      <th>wardsKilled</th>\n",
       "      <th>visionScore</th>\n",
       "      <th>totalDamageShieldedOnTeammates</th>\n",
       "      <th>totalHealsOnTeammates</th>\n",
       "      <th>kills</th>\n",
       "      <th>deaths</th>\n",
       "      <th>assists</th>\n",
       "      <th>goldSpent</th>\n",
       "      <th>win_rate</th>\n",
       "      <th>KD_ratio</th>\n",
       "    </tr>\n",
       "    <tr>\n",
       "      <th>summonerName</th>\n",
       "      <th></th>\n",
       "      <th></th>\n",
       "      <th></th>\n",
       "      <th></th>\n",
       "      <th></th>\n",
       "      <th></th>\n",
       "      <th></th>\n",
       "      <th></th>\n",
       "      <th></th>\n",
       "      <th></th>\n",
       "      <th></th>\n",
       "      <th></th>\n",
       "      <th></th>\n",
       "      <th></th>\n",
       "      <th></th>\n",
       "      <th></th>\n",
       "      <th></th>\n",
       "    </tr>\n",
       "  </thead>\n",
       "  <tbody>\n",
       "    <tr>\n",
       "      <th>rolatweete</th>\n",
       "      <td>1.615668</td>\n",
       "      <td>3.561571</td>\n",
       "      <td>1.615668</td>\n",
       "      <td>10.670465</td>\n",
       "      <td>0.009397</td>\n",
       "      <td>0.123872</td>\n",
       "      <td>0.075889</td>\n",
       "      <td>0.001158</td>\n",
       "      <td>0.013052</td>\n",
       "      <td>0.000000</td>\n",
       "      <td>0.052914</td>\n",
       "      <td>0.004414</td>\n",
       "      <td>0.003915</td>\n",
       "      <td>0.004595</td>\n",
       "      <td>5.884006</td>\n",
       "      <td>0.714286</td>\n",
       "      <td>1.127419</td>\n",
       "    </tr>\n",
       "    <tr>\n",
       "      <th>skipper94</th>\n",
       "      <td>0.689053</td>\n",
       "      <td>2.523748</td>\n",
       "      <td>0.689053</td>\n",
       "      <td>11.518432</td>\n",
       "      <td>0.011356</td>\n",
       "      <td>0.082263</td>\n",
       "      <td>0.053999</td>\n",
       "      <td>0.001073</td>\n",
       "      <td>0.015929</td>\n",
       "      <td>0.386276</td>\n",
       "      <td>1.617208</td>\n",
       "      <td>0.002766</td>\n",
       "      <td>0.003816</td>\n",
       "      <td>0.005939</td>\n",
       "      <td>5.143979</td>\n",
       "      <td>0.533333</td>\n",
       "      <td>0.724755</td>\n",
       "    </tr>\n",
       "    <tr>\n",
       "      <th>Michelangelo0o</th>\n",
       "      <td>0.244537</td>\n",
       "      <td>0.669205</td>\n",
       "      <td>0.244537</td>\n",
       "      <td>4.107450</td>\n",
       "      <td>0.014073</td>\n",
       "      <td>0.080531</td>\n",
       "      <td>0.017124</td>\n",
       "      <td>0.000893</td>\n",
       "      <td>0.015255</td>\n",
       "      <td>0.567425</td>\n",
       "      <td>0.302977</td>\n",
       "      <td>0.000801</td>\n",
       "      <td>0.003655</td>\n",
       "      <td>0.006295</td>\n",
       "      <td>3.587203</td>\n",
       "      <td>0.538462</td>\n",
       "      <td>0.219202</td>\n",
       "    </tr>\n",
       "    <tr>\n",
       "      <th>veteranmaestro</th>\n",
       "      <td>1.689423</td>\n",
       "      <td>6.041668</td>\n",
       "      <td>1.689423</td>\n",
       "      <td>11.192731</td>\n",
       "      <td>0.013884</td>\n",
       "      <td>0.262842</td>\n",
       "      <td>0.054114</td>\n",
       "      <td>0.001292</td>\n",
       "      <td>0.016788</td>\n",
       "      <td>0.000000</td>\n",
       "      <td>0.021040</td>\n",
       "      <td>0.003994</td>\n",
       "      <td>0.002896</td>\n",
       "      <td>0.005274</td>\n",
       "      <td>5.916836</td>\n",
       "      <td>0.588235</td>\n",
       "      <td>1.379262</td>\n",
       "    </tr>\n",
       "  </tbody>\n",
       "</table>\n",
       "</div>"
      ],
      "text/plain": [
       "                damageDealtToBuildings  damageDealtToObjectives  \\\n",
       "summonerName                                                      \n",
       "rolatweete                    1.615668                 3.561571   \n",
       "skipper94                     0.689053                 2.523748   \n",
       "Michelangelo0o                0.244537                 0.669205   \n",
       "veteranmaestro                1.689423                 6.041668   \n",
       "\n",
       "                damageDealtToTurrets  totalDamageDealtToChampions  \\\n",
       "summonerName                                                        \n",
       "rolatweete                  1.615668                    10.670465   \n",
       "skipper94                   0.689053                    11.518432   \n",
       "Michelangelo0o              0.244537                     4.107450   \n",
       "veteranmaestro              1.689423                    11.192731   \n",
       "\n",
       "                timeCCingOthers  totalTimeCCDealt  totalMinionsKilled  \\\n",
       "summonerName                                                            \n",
       "rolatweete             0.009397          0.123872            0.075889   \n",
       "skipper94              0.011356          0.082263            0.053999   \n",
       "Michelangelo0o         0.014073          0.080531            0.017124   \n",
       "veteranmaestro         0.013884          0.262842            0.054114   \n",
       "\n",
       "                wardsKilled  visionScore  totalDamageShieldedOnTeammates  \\\n",
       "summonerName                                                               \n",
       "rolatweete         0.001158     0.013052                        0.000000   \n",
       "skipper94          0.001073     0.015929                        0.386276   \n",
       "Michelangelo0o     0.000893     0.015255                        0.567425   \n",
       "veteranmaestro     0.001292     0.016788                        0.000000   \n",
       "\n",
       "                totalHealsOnTeammates     kills    deaths   assists  \\\n",
       "summonerName                                                          \n",
       "rolatweete                   0.052914  0.004414  0.003915  0.004595   \n",
       "skipper94                    1.617208  0.002766  0.003816  0.005939   \n",
       "Michelangelo0o               0.302977  0.000801  0.003655  0.006295   \n",
       "veteranmaestro               0.021040  0.003994  0.002896  0.005274   \n",
       "\n",
       "                goldSpent  win_rate  KD_ratio  \n",
       "summonerName                                   \n",
       "rolatweete       5.884006  0.714286  1.127419  \n",
       "skipper94        5.143979  0.533333  0.724755  \n",
       "Michelangelo0o   3.587203  0.538462  0.219202  \n",
       "veteranmaestro   5.916836  0.588235  1.379262  "
      ]
     },
     "execution_count": 4,
     "metadata": {},
     "output_type": "execute_result"
    }
   ],
   "source": [
    "summoner_avg_stats_df.set_index('summonerName')"
   ]
  },
  {
   "cell_type": "code",
   "execution_count": 21,
   "metadata": {},
   "outputs": [
    {
     "data": {
      "text/plain": [
       "<AxesSubplot:ylabel='summonerName'>"
      ]
     },
     "execution_count": 21,
     "metadata": {},
     "output_type": "execute_result"
    },
    {
     "data": {
      "image/png": "[encoded data removed]",
      "text/plain": [
       "<Figure size 432x288 with 1 Axes>"
      ]
     },
     "metadata": {
      "needs_background": "light"
     },
     "output_type": "display_data"
    }
   ],
   "source": [
    "pd.pivot_table(data=summoner_avg_stats_df, values=['totalDamageDealtToChampions'],index='summonerName').sort_values(by='totalDamageDealtToChampions',ascending=True).plot(kind='barh')"
   ]
  },
  {
   "cell_type": "code",
   "execution_count": 22,
   "metadata": {},
   "outputs": [
    {
     "data": {
      "text/plain": [
       "<AxesSubplot:ylabel='summonerName'>"
      ]
     },
     "execution_count": 22,
     "metadata": {},
     "output_type": "execute_result"
    },
    {
     "data": {
      "image/png": "[encoded data removed]",
      "text/plain": [
       "<Figure size 432x288 with 1 Axes>"
      ]
     },
     "metadata": {
      "needs_background": "light"
     },
     "output_type": "display_data"
    }
   ],
   "source": [
    "pd.pivot_table(data=summoner_avg_stats_df, values=['KD_ratio'],index='summonerName').sort_values(by='KD_ratio',ascending=True).plot(kind='barh')"
   ]
  },
  {
   "cell_type": "code",
   "execution_count": 23,
   "metadata": {},
   "outputs": [
    {
     "data": {
      "text/plain": [
       "<AxesSubplot:ylabel='summonerName'>"
      ]
     },
     "execution_count": 23,
     "metadata": {},
     "output_type": "execute_result"
    },
    {
     "data": {
      "image/png": "[encoded data removed]",
      "text/plain": [
       "<Figure size 432x288 with 1 Axes>"
      ]
     },
     "metadata": {
      "needs_background": "light"
     },
     "output_type": "display_data"
    }
   ],
   "source": [
    "pd.pivot_table(data=summoner_avg_stats_df, values=['goldSpent'],index='summonerName').sort_values(by='goldSpent',ascending=True).plot(kind='barh')"
   ]
  },
  {
   "cell_type": "code",
   "execution_count": 24,
   "metadata": {},
   "outputs": [
    {
     "data": {
      "text/plain": [
       "<AxesSubplot:ylabel='summonerName'>"
      ]
     },
     "execution_count": 24,
     "metadata": {},
     "output_type": "execute_result"
    },
    {
     "data": {
      "image/png": "[encoded data removed]",
      "text/plain": [
       "<Figure size 432x288 with 1 Axes>"
      ]
     },
     "metadata": {
      "needs_background": "light"
     },
     "output_type": "display_data"
    }
   ],
   "source": [
    "pd.pivot_table(data=summoner_avg_stats_df, values=['deaths'],index='summonerName').sort_values(by='deaths',ascending=True).plot(kind='barh')"
   ]
  },
  {
   "cell_type": "code",
   "execution_count": 25,
   "metadata": {},
   "outputs": [
    {
     "data": {
      "text/plain": [
       "<AxesSubplot:ylabel='summonerName'>"
      ]
     },
     "execution_count": 25,
     "metadata": {},
     "output_type": "execute_result"
    },
    {
     "data": {
      "image/png": "[encoded data removed]",
      "text/plain": [
       "<Figure size 432x288 with 1 Axes>"
      ]
     },
     "metadata": {
      "needs_background": "light"
     },
     "output_type": "display_data"
    }
   ],
   "source": [
    "pd.pivot_table(data=summoner_avg_stats_df, values=['visionScore'],index='summonerName').sort_values(by='visionScore',ascending=True).plot(kind='barh')"
   ]
  },
  {
   "cell_type": "code",
   "execution_count": 26,
   "metadata": {},
   "outputs": [
    {
     "data": {
      "text/plain": [
       "<AxesSubplot:ylabel='summonerName'>"
      ]
     },
     "execution_count": 26,
     "metadata": {},
     "output_type": "execute_result"
    },
    {
     "data": {
      "image/png": "[encoded data removed]",
      "text/plain": [
       "<Figure size 432x288 with 1 Axes>"
      ]
     },
     "metadata": {
      "needs_background": "light"
     },
     "output_type": "display_data"
    }
   ],
   "source": [
    "pd.pivot_table(data=summoner_avg_stats_df, values=['timeCCingOthers'],index='summonerName').sort_values(by='timeCCingOthers',ascending=True).plot(kind='barh')"
   ]
  },
  {
   "cell_type": "code",
   "execution_count": 27,
   "metadata": {},
   "outputs": [
    {
     "data": {
      "text/plain": [
       "<AxesSubplot:ylabel='summonerName'>"
      ]
     },
     "execution_count": 27,
     "metadata": {},
     "output_type": "execute_result"
    },
    {
     "data": {
      "image/png": "[encoded data removed]",
      "text/plain": [
       "<Figure size 432x288 with 1 Axes>"
      ]
     },
     "metadata": {
      "needs_background": "light"
     },
     "output_type": "display_data"
    }
   ],
   "source": [
    "pd.pivot_table(data=summoner_avg_stats_df, values=['totalTimeCCDealt'],index='summonerName').sort_values(by='totalTimeCCDealt',ascending=True).plot(kind='barh')"
   ]
  },
  {
   "cell_type": "code",
   "execution_count": 28,
   "metadata": {},
   "outputs": [
    {
     "data": {
      "text/plain": [
       "<AxesSubplot:ylabel='summonerName'>"
      ]
     },
     "execution_count": 28,
     "metadata": {},
     "output_type": "execute_result"
    },
    {
     "data": {
      "image/png": "[encoded data removed]",
      "text/plain": [
       "<Figure size 432x288 with 1 Axes>"
      ]
     },
     "metadata": {
      "needs_background": "light"
     },
     "output_type": "display_data"
    }
   ],
   "source": [
    "pd.pivot_table(data=summoner_avg_stats_df, values=['totalMinionsKilled'],index='summonerName').sort_values(by='totalMinionsKilled',ascending=True).plot(kind='barh')"
   ]
  },
  {
   "cell_type": "code",
   "execution_count": 30,
   "metadata": {},
   "outputs": [
    {
     "data": {
      "text/plain": [
       "<AxesSubplot:ylabel='summonerName'>"
      ]
     },
     "execution_count": 30,
     "metadata": {},
     "output_type": "execute_result"
    },
    {
     "data": {
      "image/png": "[encoded data removed]",
      "text/plain": [
       "<Figure size 432x288 with 1 Axes>"
      ]
     },
     "metadata": {
      "needs_background": "light"
     },
     "output_type": "display_data"
    }
   ],
   "source": [
    "pd.pivot_table(data=summoner_avg_stats_df, values=['wardsKilled'],index='summonerName').sort_values(by='wardsKilled',ascending=True).plot(kind='barh')"
   ]
  },
  {
   "cell_type": "code",
   "execution_count": 31,
   "metadata": {},
   "outputs": [
    {
     "data": {
      "text/plain": [
       "<AxesSubplot:ylabel='summonerName'>"
      ]
     },
     "execution_count": 31,
     "metadata": {},
     "output_type": "execute_result"
    },
    {
     "data": {
      "image/png": "[encoded data removed]",
      "text/plain": [
       "<Figure size 432x288 with 1 Axes>"
      ]
     },
     "metadata": {
      "needs_background": "light"
     },
     "output_type": "display_data"
    }
   ],
   "source": [
    "pd.pivot_table(data=summoner_avg_stats_df, values=['damageDealtToObjectives'],index='summonerName').sort_values(by='damageDealtToObjectives',ascending=True).plot(kind='barh')"
   ]
  },
  {
   "cell_type": "code",
   "execution_count": 32,
   "metadata": {},
   "outputs": [
    {
     "data": {
      "text/plain": [
       "<AxesSubplot:ylabel='summonerName'>"
      ]
     },
     "execution_count": 32,
     "metadata": {},
     "output_type": "execute_result"
    },
    {
     "data": {
      "image/png": "[encoded data removed]",
      "text/plain": [
       "<Figure size 432x288 with 1 Axes>"
      ]
     },
     "metadata": {
      "needs_background": "light"
     },
     "output_type": "display_data"
    }
   ],
   "source": [
    "pd.pivot_table(data=summoner_avg_stats_df, values=['damageDealtToBuildings'],index='summonerName').sort_values(by='damageDealtToBuildings',ascending=True).plot(kind='barh')"
   ]
  },
  {
   "cell_type": "code",
   "execution_count": 33,
   "metadata": {},
   "outputs": [
    {
     "data": {
      "text/plain": [
       "<AxesSubplot:ylabel='summonerName'>"
      ]
     },
     "execution_count": 33,
     "metadata": {},
     "output_type": "execute_result"
    },
    {
     "data": {
      "image/png": "[encoded data removed]",
      "text/plain": [
       "<Figure size 432x288 with 1 Axes>"
      ]
     },
     "metadata": {
      "needs_background": "light"
     },
     "output_type": "display_data"
    }
   ],
   "source": [
    "pd.pivot_table(data=summoner_avg_stats_df, values=['damageDealtToTurrets'],index='summonerName').sort_values(by='damageDealtToTurrets',ascending=True).plot(kind='barh')"
   ]
  },
  {
   "cell_type": "code",
   "execution_count": 34,
   "metadata": {},
   "outputs": [
    {
     "data": {
      "text/plain": [
       "<AxesSubplot:ylabel='summonerName'>"
      ]
     },
     "execution_count": 34,
     "metadata": {},
     "output_type": "execute_result"
    },
    {
     "data": {
      "image/png": "[encoded data removed]",
      "text/plain": [
       "<Figure size 432x288 with 1 Axes>"
      ]
     },
     "metadata": {
      "needs_background": "light"
     },
     "output_type": "display_data"
    }
   ],
   "source": [
    "pd.pivot_table(data=summoner_avg_stats_df, values=['goldSpent'],index='summonerName').sort_values(by='goldSpent',ascending=True).plot(kind='barh')"
   ]
  },
  {
   "cell_type": "code",
   "execution_count": 35,
   "metadata": {},
   "outputs": [
    {
     "data": {
      "text/plain": [
       "<AxesSubplot:ylabel='summonerName'>"
      ]
     },
     "execution_count": 35,
     "metadata": {},
     "output_type": "execute_result"
    },
    {
     "data": {
      "image/png": "[encoded data removed]",
      "text/plain": [
       "<Figure size 432x288 with 1 Axes>"
      ]
     },
     "metadata": {
      "needs_background": "light"
     },
     "output_type": "display_data"
    }
   ],
   "source": [
    "pd.pivot_table(data=summoner_avg_stats_df, values=['win_rate'],index='summonerName').sort_values(by='win_rate',ascending=True).plot(kind='barh')"
   ]
  },
  {
   "cell_type": "code",
   "execution_count": null,
   "metadata": {},
   "outputs": [],
   "source": []
  }
 ],
 "metadata": {
  "kernelspec": {
   "display_name": "Python 3",
   "language": "python",
   "name": "python3"
  },
  "language_info": {
   "codemirror_mode": {
    "name": "ipython",
    "version": 3
   },
   "file_extension": ".py",
   "mimetype": "text/x-python",
   "name": "python",
   "nbconvert_exporter": "python",
   "pygments_lexer": "ipython3",
   "version": "3.8.6"
  }
 },
 "nbformat": 4,
 "nbformat_minor": 4
}
